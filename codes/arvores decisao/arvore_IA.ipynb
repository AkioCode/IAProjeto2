{
 "cells": [
  {
   "cell_type": "markdown",
   "metadata": {},
   "source": [
    "# Chest Clinic"
   ]
  },
  {
   "cell_type": "code",
   "execution_count": 46,
   "metadata": {},
   "outputs": [],
   "source": [
    "import pandas as pd\n",
    "import numpy as np\n",
    "\n",
    "path1k = r\"../sample generator/amostras1000.csv\"; \n",
    "path10k = r\"../sample generator/amostras10000.txt\"; \n",
    "\n",
    "df_chest1k = pd.read_csv(path1k, header=None)\n",
    "df_chest1k.columns = ['Visita Asia', 'Fuma', 'Tuberculose', 'Cancer Pulmao', \n",
    "'Bronquite', 'Tuberculose ou Cancer', 'RaioX', \n",
    "'Dispneia']\n",
    "df_chest10k = pd.read_csv(path10k, header=None)\n",
    "df_chest10k.columns = ['Visita Asia', 'Fuma', 'Tuberculose', 'Cancer Pulmao', \n",
    "'Bronquite', 'Tuberculose ou Cancer', 'RaioX', \n",
    "'Dispneia']"
   ]
  },
  {
   "cell_type": "markdown",
   "metadata": {},
   "source": [
    "### Separação em conjunto de treinamento (50% da base) e teste (50% da base)"
   ]
  },
  {
   "cell_type": "code",
   "execution_count": 47,
   "metadata": {},
   "outputs": [],
   "source": [
    "#from sklearn.cross_validation import train_test_split\n",
    "from sklearn.model_selection import train_test_split\n",
    "#X = Variables | Y = Class\n",
    "X1k, y1k = df_chest1k.iloc[:, :].values, df_chest1k.iloc[:, 0].values\n",
    "X1k_train, X1k_test, y1k_train, y1k_test = \\\n",
    "        train_test_split(X1k, y1k, test_size=0.5, random_state=0)\n",
    "\n",
    "X10k, y10k = df_chest10k.iloc[:, :].values, df_chest10k.iloc[:, 0].values\n",
    "X10k_train, X10k_test, y10k_train, y10k_test = \\\n",
    "        train_test_split(X10k, y10k, test_size=0.5, random_state=0)"
   ]
  },
  {
   "cell_type": "markdown",
   "metadata": {},
   "source": [
    "# <i>Random Forests</i>"
   ]
  },
  {
   "cell_type": "code",
   "execution_count": 48,
   "metadata": {},
   "outputs": [
    {
     "name": "stdout",
     "output_type": "stream",
     "text": [
      " 1) Visita Asia                    0.984805\n",
      " 2) Tuberculose                    0.004109\n",
      " 3) Dispneia                       0.002286\n",
      " 4) Bronquite                      0.002261\n",
      " 5) Fuma                           0.002225\n",
      " 6) Cancer Pulmao                  0.001846\n",
      " 7) RaioX                          0.001413\n",
      " 8) Tuberculose ou Cancer          0.001055\n"
     ]
    },
    {
     "data": {
      "image/png": "[encoded data removed]",
      "text/plain": [
       "<Figure size 432x288 with 1 Axes>"
      ]
     },
     "metadata": {},
     "output_type": "display_data"
    }
   ],
   "source": [
    "from sklearn.ensemble import RandomForestClassifier\n",
    "import matplotlib.pyplot as plt\n",
    "\n",
    "feat_labels1k = df_chest1k.columns\n",
    "\n",
    "forest = RandomForestClassifier(n_estimators=10000,\n",
    "                                criterion='entropy',\n",
    "                                max_features='sqrt',\n",
    "                                random_state=0,\n",
    "                                n_jobs=-1)\n",
    "\n",
    "forest.fit(X10k_train, y10k_train)\n",
    "importances = forest.feature_importances_\n",
    "\n",
    "indices = np.argsort(importances)[::-1]\n",
    "\n",
    "for f in range(X10k_train.shape[1]):\n",
    "    print(\"%2d) %-*s %f\" % (f + 1, 30, \n",
    "                            feat_labels[indices[f]], \n",
    "                            importances[indices[f]]))\n",
    "\n",
    "plt.title('Feature Importances')\n",
    "plt.bar(range(X10k_train.shape[1]), \n",
    "        importances[indices],\n",
    "        color='blue', \n",
    "        align='center')\n",
    "\n",
    "plt.xticks(range(X10k_train.shape[1]), \n",
    "           feat_labels[indices], rotation=90)\n",
    "plt.xlim([-1, X10k_train.shape[1]])\n",
    "plt.tight_layout()\n",
    "plt.show()"
   ]
  },
  {
   "cell_type": "code",
   "execution_count": 52,
   "metadata": {},
   "outputs": [
    {
     "name": "stdout",
     "output_type": "stream",
     "text": [
      " 1) Visita Asia                    0.982464\n",
      " 2) Cancer Pulmao                  0.008313\n",
      " 3) Tuberculose                    0.006454\n",
      " 4) Bronquite                      0.002438\n",
      " 5) Dispneia                       0.000277\n",
      " 6) Fuma                           0.000054\n",
      " 7) RaioX                          0.000000\n",
      " 8) Tuberculose ou Cancer          0.000000\n"
     ]
    },
    {
     "data": {
      "image/png": "[encoded data removed]",
      "text/plain": [
       "<Figure size 432x288 with 1 Axes>"
      ]
     },
     "metadata": {},
     "output_type": "display_data"
    }
   ],
   "source": [
    "import graphviz\n",
    "from sklearn import tree\n",
    "\n",
    "clf = tree.DecisionTreeClassifier(criterion='entropy',\n",
    "                                max_features='sqrt',\n",
    "                                random_state=0)\n",
    "clf1k = clf.fit(X1k_train, y1k_train)\n",
    "clf10k = clf.fit(X10k_train, y10k_train)\n",
    "importancesTree = clf10k.feature_importances_\n",
    "indices = np.argsort(importancesTree)[::-1]\n",
    "for f in range(X10k_train.shape[1]):\n",
    "    print(\"%2d) %-*s %f\" % (f + 1, 30, \n",
    "                            feat_labels[indices[f]], \n",
    "                            importancesTree[indices[f]]))\n",
    "    \n",
    "plt.title('Feature Importances')\n",
    "plt.bar(range(X10k_train.shape[1]), \n",
    "        importancesTree[indices],\n",
    "        color='blue', \n",
    "        align='center')\n",
    "\n",
    "plt.xticks(range(X10k_train.shape[1]), \n",
    "           feat_labels[indices], rotation=90)\n",
    "plt.xlim([-1, X10k_train.shape[1]])\n",
    "plt.tight_layout()\n",
    "plt.show()"
   ]
  },
  {
   "cell_type": "code",
   "execution_count": 51,
   "metadata": {},
   "outputs": [
    {
     "data": {
      "text/plain": [
       "'tree10k.pdf'"
      ]
     },
     "execution_count": 51,
     "metadata": {},
     "output_type": "execute_result"
    }
   ],
   "source": [
    "dot_data1k = tree.export_graphviz(clf1k, proportion=True, feature_names=['Visita Asia', 'Fuma', 'Tuberculose', 'Cancer Pulmao', 'Bronquite', 'Tuberculose ou Cancer', 'RaioX', 'Dispneia'], out_file= None, filled = True) \n",
    "dot_data10k = tree.export_graphviz(clf10k, proportion=True, feature_names=['Visita Asia', 'Fuma', 'Tuberculose', 'Cancer Pulmao', 'Bronquite', 'Tuberculose ou Cancer', 'RaioX', 'Dispneia'], out_file= None, filled = True) \n",
    "\n",
    "graph1k = graphviz.Source(dot_data1k)\n",
    "graph10k= graphviz.Source(dot_data10k)\n",
    "graph1k\n",
    "graph10k\n",
    "graph1k.render('tree1k')\n",
    "graph10k.render('tree10k')"
   ]
  },
  {
   "cell_type": "code",
   "execution_count": null,
   "metadata": {},
   "outputs": [],
   "source": []
  }
 ],
 "metadata": {
  "kernelspec": {
   "display_name": "Python 3",
   "language": "python",
   "name": "python3"
  },
  "language_info": {
   "codemirror_mode": {
    "name": "ipython",
    "version": 3
   },
   "file_extension": ".py",
   "mimetype": "text/x-python",
   "name": "python",
   "nbconvert_exporter": "python",
   "pygments_lexer": "ipython3",
   "version": "3.6.5"
  }
 },
 "nbformat": 4,
 "nbformat_minor": 2
}
