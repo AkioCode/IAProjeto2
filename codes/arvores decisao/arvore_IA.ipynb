{
 "cells": [
  {
   "cell_type": "markdown",
   "metadata": {},
   "source": [
    "# Chest Clinic"
   ]
  },
  {
   "cell_type": "code",
   "execution_count": 10,
   "metadata": {},
   "outputs": [],
   "source": [
    "import pandas as pd\n",
    "import numpy as np\n",
    "\n",
    "path1k = r\"../sample generator/amostras1000.csv\"; \n",
    "path10k = r\"../sample generator/amostras10000.txt\"; \n",
    "\n",
    "df_chest1k = pd.read_csv(path1k, header=None)\n",
    "df_chest1k.columns = ['Visita Asia', 'Fuma', 'Tuberculose', 'Cancer Pulmao', \n",
    "'Bronquite', 'Tuberculose ou Cancer', 'RaioX', \n",
    "'Dispneia']\n",
    "df_chest10k = pd.read_csv(path10k, header=None)"
   ]
  },
  {
   "cell_type": "markdown",
   "metadata": {},
   "source": [
    "### Separação em conjunto de treinamento (70% da base) e teste (30% da base)"
   ]
  },
  {
   "cell_type": "code",
   "execution_count": 19,
   "metadata": {},
   "outputs": [
    {
     "name": "stdout",
     "output_type": "stream",
     "text": [
      "      0  1  2  3  4  5  6\n",
      "7681  0  0  0  0  0  0  1\n",
      "9031  0  1  0  1  0  1  0\n",
      "3691  0  1  0  1  1  1  0\n",
      "202   0  0  0  0  0  0  1\n",
      "5625  0  0  0  0  1  0  1\n",
      "298   0  0  0  0  1  0  1\n",
      "5135  0  0  0  0  1  0  1\n",
      "6899  0  0  0  0  0  1  0\n",
      "7258  0  1  0  0  0  0  1\n",
      "9516  0  1  0  0  1  0  0\n",
      "6140  0  0  0  0  1  0  1\n",
      "9082  0  0  0  0  0  0  1\n",
      "7205  0  1  0  0  1  0  1\n",
      "2819  0  0  0  0  0  0  1\n",
      "5282  0  1  0  0  1  0  1\n",
      "4901  0  0  0  0  0  0  1\n",
      "8449  0  0  0  0  0  0  1\n",
      "9949  0  1  0  0  0  0  1\n",
      "5466  0  1  0  0  1  0  1\n",
      "4503  0  1  0  0  1  0  0\n",
      "210   0  1  0  0  1  0  1\n",
      "7658  0  0  0  0  0  0  1\n",
      "5964  0  0  0  0  0  0  0\n",
      "3650  0  1  0  0  1  0  1\n",
      "5624  0  0  0  0  1  0  1\n",
      "8728  0  0  0  0  0  0  1\n",
      "4919  0  0  0  0  0  0  1\n",
      "2345  0  1  0  0  1  0  1\n",
      "4162  0  1  0  0  0  0  1\n",
      "1153  0  1  0  0  1  0  1\n",
      "...  .. .. .. .. .. .. ..\n",
      "755   0  0  0  0  1  0  1\n",
      "8291  0  0  0  0  0  0  1\n",
      "2496  0  0  0  0  1  0  1\n",
      "7599  0  0  0  0  0  0  1\n",
      "1871  0  0  0  0  0  0  1\n",
      "2046  0  0  0  0  1  0  1\n",
      "7877  0  1  0  0  1  0  1\n",
      "4851  0  1  0  0  0  0  1\n",
      "5072  0  0  0  0  0  0  1\n",
      "2163  0  1  0  0  1  0  1\n",
      "6036  0  0  0  0  1  0  1\n",
      "6921  0  0  0  0  0  0  1\n",
      "6216  0  0  0  0  0  0  1\n",
      "537   0  1  0  0  1  0  1\n",
      "9893  0  0  0  0  0  0  1\n",
      "2897  0  0  0  0  0  0  1\n",
      "7768  0  1  0  0  0  0  1\n",
      "2222  0  0  0  0  1  0  1\n",
      "2599  0  1  0  0  0  0  1\n",
      "705   1  1  0  0  0  0  1\n",
      "3468  0  0  1  0  0  1  0\n",
      "6744  0  1  0  0  1  0  1\n",
      "5874  0  1  0  0  1  0  1\n",
      "4373  0  0  0  0  1  0  1\n",
      "7891  0  1  0  0  0  0  1\n",
      "9225  0  1  0  0  1  0  1\n",
      "4859  0  0  0  0  0  0  1\n",
      "3264  0  1  1  0  1  1  0\n",
      "9845  0  1  0  0  0  0  1\n",
      "2732  0  0  1  0  0  1  0\n",
      "\n",
      "[7000 rows x 7 columns]\n"
     ]
    },
    {
     "ename": "KeyError",
     "evalue": "'Dispneia'",
     "output_type": "error",
     "traceback": [
      "\u001b[1;31m---------------------------------------------------------------------------\u001b[0m",
      "\u001b[1;31mKeyError\u001b[0m                                  Traceback (most recent call last)",
      "\u001b[1;32mc:\\users\\rodrigo\\appdata\\local\\programs\\python\\python35\\lib\\site-packages\\pandas\\core\\indexes\\base.py\u001b[0m in \u001b[0;36mget_loc\u001b[1;34m(self, key, method, tolerance)\u001b[0m\n\u001b[0;32m   2656\u001b[0m             \u001b[1;32mtry\u001b[0m\u001b[1;33m:\u001b[0m\u001b[1;33m\u001b[0m\u001b[0m\n\u001b[1;32m-> 2657\u001b[1;33m                 \u001b[1;32mreturn\u001b[0m \u001b[0mself\u001b[0m\u001b[1;33m.\u001b[0m\u001b[0m_engine\u001b[0m\u001b[1;33m.\u001b[0m\u001b[0mget_loc\u001b[0m\u001b[1;33m(\u001b[0m\u001b[0mkey\u001b[0m\u001b[1;33m)\u001b[0m\u001b[1;33m\u001b[0m\u001b[0m\n\u001b[0m\u001b[0;32m   2658\u001b[0m             \u001b[1;32mexcept\u001b[0m \u001b[0mKeyError\u001b[0m\u001b[1;33m:\u001b[0m\u001b[1;33m\u001b[0m\u001b[0m\n",
      "\u001b[1;32mpandas\\_libs\\index.pyx\u001b[0m in \u001b[0;36mpandas._libs.index.IndexEngine.get_loc\u001b[1;34m()\u001b[0m\n",
      "\u001b[1;32mpandas\\_libs\\index.pyx\u001b[0m in \u001b[0;36mpandas._libs.index.IndexEngine.get_loc\u001b[1;34m()\u001b[0m\n",
      "\u001b[1;32mpandas\\_libs\\index_class_helper.pxi\u001b[0m in \u001b[0;36mpandas._libs.index.Int64Engine._check_type\u001b[1;34m()\u001b[0m\n",
      "\u001b[1;31mKeyError\u001b[0m: 'Dispneia'",
      "\nDuring handling of the above exception, another exception occurred:\n",
      "\u001b[1;31mKeyError\u001b[0m                                  Traceback (most recent call last)",
      "\u001b[1;32m<ipython-input-19-5317d2309fb9>\u001b[0m in \u001b[0;36m<module>\u001b[1;34m\u001b[0m\n\u001b[0;32m     10\u001b[0m \u001b[0mprint\u001b[0m\u001b[1;33m(\u001b[0m\u001b[0mX10k_train\u001b[0m\u001b[1;33m)\u001b[0m\u001b[1;33m\u001b[0m\u001b[0m\n\u001b[0;32m     11\u001b[0m \u001b[0mX10k_test\u001b[0m \u001b[1;33m=\u001b[0m \u001b[0mtest\u001b[0m\u001b[1;33m[\u001b[0m\u001b[0mtest\u001b[0m\u001b[1;33m.\u001b[0m\u001b[0mcolumns\u001b[0m\u001b[1;33m[\u001b[0m\u001b[1;33m:\u001b[0m\u001b[1;36m7\u001b[0m\u001b[1;33m]\u001b[0m\u001b[1;33m]\u001b[0m\u001b[1;33m\u001b[0m\u001b[0m\n\u001b[1;32m---> 12\u001b[1;33m \u001b[0my10k_train\u001b[0m \u001b[1;33m=\u001b[0m \u001b[0mtrain\u001b[0m\u001b[1;33m[\u001b[0m\u001b[1;34m'Dispneia'\u001b[0m\u001b[1;33m]\u001b[0m\u001b[1;33m\u001b[0m\u001b[0m\n\u001b[0m\u001b[0;32m     13\u001b[0m \u001b[0my10k_test\u001b[0m \u001b[1;33m=\u001b[0m \u001b[0mtest\u001b[0m\u001b[1;33m[\u001b[0m\u001b[1;34m'Dispneia'\u001b[0m\u001b[1;33m]\u001b[0m\u001b[1;33m\u001b[0m\u001b[0m\n\u001b[0;32m     14\u001b[0m \u001b[1;33m\u001b[0m\u001b[0m\n",
      "\u001b[1;32mc:\\users\\rodrigo\\appdata\\local\\programs\\python\\python35\\lib\\site-packages\\pandas\\core\\frame.py\u001b[0m in \u001b[0;36m__getitem__\u001b[1;34m(self, key)\u001b[0m\n\u001b[0;32m   2925\u001b[0m             \u001b[1;32mif\u001b[0m \u001b[0mself\u001b[0m\u001b[1;33m.\u001b[0m\u001b[0mcolumns\u001b[0m\u001b[1;33m.\u001b[0m\u001b[0mnlevels\u001b[0m \u001b[1;33m>\u001b[0m \u001b[1;36m1\u001b[0m\u001b[1;33m:\u001b[0m\u001b[1;33m\u001b[0m\u001b[0m\n\u001b[0;32m   2926\u001b[0m                 \u001b[1;32mreturn\u001b[0m \u001b[0mself\u001b[0m\u001b[1;33m.\u001b[0m\u001b[0m_getitem_multilevel\u001b[0m\u001b[1;33m(\u001b[0m\u001b[0mkey\u001b[0m\u001b[1;33m)\u001b[0m\u001b[1;33m\u001b[0m\u001b[0m\n\u001b[1;32m-> 2927\u001b[1;33m             \u001b[0mindexer\u001b[0m \u001b[1;33m=\u001b[0m \u001b[0mself\u001b[0m\u001b[1;33m.\u001b[0m\u001b[0mcolumns\u001b[0m\u001b[1;33m.\u001b[0m\u001b[0mget_loc\u001b[0m\u001b[1;33m(\u001b[0m\u001b[0mkey\u001b[0m\u001b[1;33m)\u001b[0m\u001b[1;33m\u001b[0m\u001b[0m\n\u001b[0m\u001b[0;32m   2928\u001b[0m             \u001b[1;32mif\u001b[0m \u001b[0mis_integer\u001b[0m\u001b[1;33m(\u001b[0m\u001b[0mindexer\u001b[0m\u001b[1;33m)\u001b[0m\u001b[1;33m:\u001b[0m\u001b[1;33m\u001b[0m\u001b[0m\n\u001b[0;32m   2929\u001b[0m                 \u001b[0mindexer\u001b[0m \u001b[1;33m=\u001b[0m \u001b[1;33m[\u001b[0m\u001b[0mindexer\u001b[0m\u001b[1;33m]\u001b[0m\u001b[1;33m\u001b[0m\u001b[0m\n",
      "\u001b[1;32mc:\\users\\rodrigo\\appdata\\local\\programs\\python\\python35\\lib\\site-packages\\pandas\\core\\indexes\\base.py\u001b[0m in \u001b[0;36mget_loc\u001b[1;34m(self, key, method, tolerance)\u001b[0m\n\u001b[0;32m   2657\u001b[0m                 \u001b[1;32mreturn\u001b[0m \u001b[0mself\u001b[0m\u001b[1;33m.\u001b[0m\u001b[0m_engine\u001b[0m\u001b[1;33m.\u001b[0m\u001b[0mget_loc\u001b[0m\u001b[1;33m(\u001b[0m\u001b[0mkey\u001b[0m\u001b[1;33m)\u001b[0m\u001b[1;33m\u001b[0m\u001b[0m\n\u001b[0;32m   2658\u001b[0m             \u001b[1;32mexcept\u001b[0m \u001b[0mKeyError\u001b[0m\u001b[1;33m:\u001b[0m\u001b[1;33m\u001b[0m\u001b[0m\n\u001b[1;32m-> 2659\u001b[1;33m                 \u001b[1;32mreturn\u001b[0m \u001b[0mself\u001b[0m\u001b[1;33m.\u001b[0m\u001b[0m_engine\u001b[0m\u001b[1;33m.\u001b[0m\u001b[0mget_loc\u001b[0m\u001b[1;33m(\u001b[0m\u001b[0mself\u001b[0m\u001b[1;33m.\u001b[0m\u001b[0m_maybe_cast_indexer\u001b[0m\u001b[1;33m(\u001b[0m\u001b[0mkey\u001b[0m\u001b[1;33m)\u001b[0m\u001b[1;33m)\u001b[0m\u001b[1;33m\u001b[0m\u001b[0m\n\u001b[0m\u001b[0;32m   2660\u001b[0m         \u001b[0mindexer\u001b[0m \u001b[1;33m=\u001b[0m \u001b[0mself\u001b[0m\u001b[1;33m.\u001b[0m\u001b[0mget_indexer\u001b[0m\u001b[1;33m(\u001b[0m\u001b[1;33m[\u001b[0m\u001b[0mkey\u001b[0m\u001b[1;33m]\u001b[0m\u001b[1;33m,\u001b[0m \u001b[0mmethod\u001b[0m\u001b[1;33m=\u001b[0m\u001b[0mmethod\u001b[0m\u001b[1;33m,\u001b[0m \u001b[0mtolerance\u001b[0m\u001b[1;33m=\u001b[0m\u001b[0mtolerance\u001b[0m\u001b[1;33m)\u001b[0m\u001b[1;33m\u001b[0m\u001b[0m\n\u001b[0;32m   2661\u001b[0m         \u001b[1;32mif\u001b[0m \u001b[0mindexer\u001b[0m\u001b[1;33m.\u001b[0m\u001b[0mndim\u001b[0m \u001b[1;33m>\u001b[0m \u001b[1;36m1\u001b[0m \u001b[1;32mor\u001b[0m \u001b[0mindexer\u001b[0m\u001b[1;33m.\u001b[0m\u001b[0msize\u001b[0m \u001b[1;33m>\u001b[0m \u001b[1;36m1\u001b[0m\u001b[1;33m:\u001b[0m\u001b[1;33m\u001b[0m\u001b[0m\n",
      "\u001b[1;32mpandas\\_libs\\index.pyx\u001b[0m in \u001b[0;36mpandas._libs.index.IndexEngine.get_loc\u001b[1;34m()\u001b[0m\n",
      "\u001b[1;32mpandas\\_libs\\index.pyx\u001b[0m in \u001b[0;36mpandas._libs.index.IndexEngine.get_loc\u001b[1;34m()\u001b[0m\n",
      "\u001b[1;32mpandas\\_libs\\index_class_helper.pxi\u001b[0m in \u001b[0;36mpandas._libs.index.Int64Engine._check_type\u001b[1;34m()\u001b[0m\n",
      "\u001b[1;31mKeyError\u001b[0m: 'Dispneia'"
     ]
    }
   ],
   "source": [
    "#from sklearn.cross_validation import train_test_split\n",
    "from sklearn.model_selection import train_test_split\n",
    "#X = Variables | Y = Class\n",
    "X1k, y1k = df_chest1k.iloc[:, :].values, df_chest1k.iloc[:, 7].values\n",
    "X1k_train, X1k_test, y1k_train, y1k_test = \\\n",
    "        train_test_split(X1k, y1k, test_size=0.3, random_state=0)\n",
    "\n",
    "X10k, y10k = df_chest10k.iloc[:, :].values, df_chest10k.iloc[:, 7].values\n",
    "X10k_train, X10k_test, y10k_train, y10k_test = \\\n",
    "        train_test_split(X10k, y10k, test_size=0.3, random_state=0)"
   ]
  },
  {
   "cell_type": "markdown",
   "metadata": {},
   "source": [
    "# <i>Random Forests</i>"
   ]
  },
  {
   "cell_type": "code",
   "execution_count": null,
   "metadata": {},
   "outputs": [],
   "source": [
    "from sklearn.ensemble import RandomForestClassifier\n",
    "import matplotlib.pyplot as plt\n",
    "\n",
    "feat_labels = df_chest1k.columns\n",
    "\n",
    "forest = RandomForestClassifier(n_estimators=10000,\n",
    "                                criterion='entropy',\n",
    "                                max_features='sqrt',\n",
    "                                random_state=0,\n",
    "                                n_jobs=-1)\n",
    "\n",
    "forest.fit(X10k_train, y10k_train)\n",
    "importances = forest.feature_importances_\n",
    "\n",
    "indices = np.argsort(importances)[::-1]\n",
    "\n",
    "for f in range(X10k_train.shape[1]):\n",
    "    print(\"%2d) %-*s %f\" % (f + 1, 30, \n",
    "                            feat_labels[indices[f]], \n",
    "                            importances[indices[f]]))\n",
    "\n",
    "plt.title('Feature Importances')\n",
    "plt.bar(range(X10k_train.shape[1]), \n",
    "        importances[indices],\n",
    "        color='blue', \n",
    "        align='center')\n",
    "\n",
    "plt.xticks(range(X10k_train.shape[1]), \n",
    "           feat_labels[indices], rotation=90)\n",
    "plt.xlim([-1, X10k_train.shape[1]])\n",
    "plt.tight_layout()\n",
    "plt.show()"
   ]
  },
  {
   "cell_type": "markdown",
   "metadata": {},
   "source": [
    "# <i>Decision Tree</i>"
   ]
  },
  {
   "cell_type": "code",
   "execution_count": null,
   "metadata": {},
   "outputs": [],
   "source": [
    "import graphviz\n",
    "from sklearn import tree\n",
    "\n",
    "clf = tree.DecisionTreeClassifier(criterion='entropy',\n",
    "                                max_features='sqrt',\n",
    "                                random_state=0)\n",
    "#Treinamento com base de dados de mil amostras\n",
    "# clf1k = clf.fit(X1k_train, y1k_train)\n",
    "\n",
    "#Treinamento com base de dados de dez mil amostras\n",
    "clf10k = clf.fit(X10k_train, y10k_train)\n",
    "\n",
    "#Plotagem das importâncias das características da base de dados de dez mil amostras\n",
    "importancesTree = clf10k.feature_importances_\n",
    "indices = np.argsort(importancesTree)[::-1]\n",
    "for f in range(X10k_train.shape[1]):\n",
    "    print(\"%2d) %-*s %f\" % (f + 1, 30, \n",
    "                            feat_labels[indices[f]], \n",
    "                            importancesTree[indices[f]]))\n",
    "    \n",
    "plt.title('Feature Importances')\n",
    "plt.bar(range(X10k_train.shape[1]), \n",
    "        importancesTree[indices],\n",
    "        color='blue', \n",
    "        align='center')\n",
    "\n",
    "plt.xticks(range(X10k_train.shape[1]), \n",
    "           feat_labels[indices], rotation=90)\n",
    "plt.xlim([-1, X10k_train.shape[1]])\n",
    "plt.tight_layout()\n",
    "plt.show()"
   ]
  },
  {
   "cell_type": "code",
   "execution_count": null,
   "metadata": {},
   "outputs": [],
   "source": [
    "#Utilização da biblioteca graphviz para desenhar a árvore de decisão\n",
    "dot_data1k = tree.export_graphviz(clf1k, proportion=True, feature_names=['Visita Asia', 'Fuma', 'Tuberculose', 'Cancer Pulmao', 'Bronquite', 'Tuberculose ou Cancer', 'RaioX', 'Dispneia'], out_file= None, filled = True) \n",
    "dot_data10k = tree.export_graphviz(clf10k, proportion=True, feature_names=['Visita Asia', 'Fuma', 'Tuberculose', 'Cancer Pulmao', 'Bronquite', 'Tuberculose ou Cancer', 'RaioX', 'Dispneia'], out_file= None, filled = True) \n",
    "\n",
    "graph1k = graphviz.Source(dot_data1k)\n",
    "graph10k= graphviz.Source(dot_data10k)\n",
    "\n",
    "#Exportação da árvore de mil amostras em pdf\n",
    "graph1k.render('tree1k')\n",
    "#Exportação da árvore de dez mil amostras em pdf\n",
    "graph10k.render('tree10k')\n",
    "#Plotagem da árvore de decisão de dez mil amostras\n",
    "# graph1k\n",
    "graph10k\n"
   ]
  },
  {
   "cell_type": "code",
   "execution_count": null,
   "metadata": {},
   "outputs": [],
   "source": []
  }
 ],
 "metadata": {
  "kernelspec": {
   "display_name": "Python 3",
   "language": "python",
   "name": "python3"
  },
  "language_info": {
   "codemirror_mode": {
    "name": "ipython",
    "version": 3
   },
   "file_extension": ".py",
   "mimetype": "text/x-python",
   "name": "python",
   "nbconvert_exporter": "python",
   "pygments_lexer": "ipython3",
   "version": "3.7.1"
  }
 },
 "nbformat": 4,
 "nbformat_minor": 2
}
