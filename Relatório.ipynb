{
 "cells": [
  {
   "cell_type": "markdown",
   "metadata": {},
   "source": [
    "# Relatório do Segundo Trabalho\n",
    "***\n",
    "### Disciplina: (COMP0427) Inteligência Artificial\n",
    "### Professor: Dr. Hendrik Texeira Macedo\n",
    "### Participantes e tarefa responsável:\n",
    "- Arianne Macena (Naive Bayes)\n",
    "- Adam (Naive Bayes)\n",
    "- Fabiana (Decision Tree)\n",
    "- Rodrigo Akio Otsuka (Decision Tree)\n",
    "- Valmir (Amostragem)\n",
    "- Welerson (Amostragem)"
   ]
  },
  {
   "cell_type": "markdown",
   "metadata": {},
   "source": [
    "### Rede bayesiana escolhida: [ChestClinic](https://www.norsys.com/netlibrary/index.htm)\n",
    "### Característica de classe: Dispnéia"
   ]
  },
  {
   "cell_type": "markdown",
   "metadata": {},
   "source": [
    "## Processo de amostragem\n",
    "    Algoritmo: PriorSampling\n",
    "***"
   ]
  },
  {
   "cell_type": "markdown",
   "metadata": {},
   "source": [
    "## Naive Bayes\n",
    "***"
   ]
  },
  {
   "cell_type": "markdown",
   "metadata": {},
   "source": [
    "## Tree Decision\n",
    "***"
   ]
  },
  {
   "cell_type": "markdown",
   "metadata": {},
   "source": [
    "## Questionário\n",
    "***\n",
    "1. O quanto cada modelo se aproxima da rede bayesiana original ?\n",
    "    * Resposta:\n",
    "1. O quanto o tamanho do dataset influencia na qualidade ?\n",
    "1. Smoothing se faz necessário ?\n",
    "1. Quem possui melhor comportamento: Naive Bayes ou Decision Tree ? "
   ]
  },
  {
   "cell_type": "code",
   "execution_count": null,
   "metadata": {},
   "outputs": [],
   "source": []
  }
 ],
 "metadata": {
  "kernelspec": {
   "display_name": "Python 3",
   "language": "python",
   "name": "python3"
  },
  "language_info": {
   "codemirror_mode": {
    "name": "ipython",
    "version": 3
   },
   "file_extension": ".py",
   "mimetype": "text/x-python",
   "name": "python",
   "nbconvert_exporter": "python",
   "pygments_lexer": "ipython3",
   "version": "3.5.2"
  }
 },
 "nbformat": 4,
 "nbformat_minor": 2
}
